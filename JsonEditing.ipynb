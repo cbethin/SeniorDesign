{
 "cells": [
  {
   "cell_type": "code",
   "execution_count": 4,
   "metadata": {},
   "outputs": [],
   "source": [
    "import json\n",
    "import os"
   ]
  },
  {
   "cell_type": "code",
   "execution_count": 2,
   "metadata": {},
   "outputs": [],
   "source": [
    "def getJsonFiles(filepath):\n",
    "    files = list(filter(lambda x: '.json' in x, os.listdir(filepath)))\n",
    "    return [os.path.join(filepath, file) for file in files]"
   ]
  },
  {
   "cell_type": "code",
   "execution_count": 30,
   "metadata": {},
   "outputs": [],
   "source": [
    "directory = 'datasets/extended-100k/data'\n",
    "filepaths = getJsonFiles(directory)"
   ]
  },
  {
   "cell_type": "code",
   "execution_count": 33,
   "metadata": {
    "scrolled": true
   },
   "outputs": [
    {
     "name": "stdout",
     "output_type": "stream",
     "text": [
      "datasets/extended-100k/data/simplified/socialanxiety.json\n",
      "datasets/extended-100k/data/simplified/Anxiety.json\n",
      "datasets/extended-100k/data/simplified/PowerLedger.json\n",
      "datasets/extended-100k/data/simplified/tifu.json\n",
      "datasets/extended-100k/data/simplified/SuicideWatch.json\n",
      "datasets/extended-100k/data/simplified/ForeverAlone.json\n",
      "datasets/extended-100k/data/simplified/TalesFromYourServer.json\n",
      "datasets/extended-100k/data/simplified/depression.json\n",
      "datasets/extended-100k/data/simplified/berkeley.json\n"
     ]
    }
   ],
   "source": [
    "for filepath in filepaths:\n",
    "    with open(filepath) as f:\n",
    "        jsonData = json.load(f)\n",
    "        data_out = jsonData['data']\n",
    "\n",
    "        subreddit = data_out[0]['subreddit']\n",
    "        output_filepath = os.path.join(directory, 'simplified', subreddit+'.json')\n",
    "        print(output_filepath)\n",
    "        \n",
    "        with open(output_filepath, 'w') as outfile:\n",
    "            json.dump(data_out, outfile)"
   ]
  },
  {
   "cell_type": "code",
   "execution_count": 25,
   "metadata": {},
   "outputs": [],
   "source": [
    "import pandas as pd\n",
    "import gensim\n",
    "from autocorrect import spell"
   ]
  },
  {
   "cell_type": "code",
   "execution_count": 10,
   "metadata": {},
   "outputs": [],
   "source": [
    "with open('datasets/extended-15k/simplified/depression.json') as f:\n",
    "    data = json.load(f)\n",
    "    df = pd.DataFrame.from_records(data)"
   ]
  },
  {
   "cell_type": "code",
   "execution_count": 23,
   "metadata": {},
   "outputs": [],
   "source": [
    "gensim_preprocess = gensim.utils.simple_preprocess\n",
    "\n",
    "def process(line):\n",
    "    new_line = gensim_preprocess(str(line['selftext']))\n",
    "    for i, word in enumerate(new_line):\n",
    "        new_line[i] = spell(word)\n",
    "    return new_line"
   ]
  },
  {
   "cell_type": "code",
   "execution_count": 26,
   "metadata": {},
   "outputs": [
    {
     "name": "stdout",
     "output_type": "stream",
     "text": [
      "CPU times: user 9min 38s, sys: 3.08 s, total: 9min 41s\n",
      "Wall time: 9min 43s\n"
     ]
    }
   ],
   "source": [
    "%%time\n",
    "for i, row in df.iterrows():\n",
    "    process(row)"
   ]
  },
  {
   "cell_type": "code",
   "execution_count": 21,
   "metadata": {},
   "outputs": [
    {
     "data": {
      "text/plain": [
       "0        I am 26 and I have never held a job longer tha...\n",
       "1        I’ve been struggling with so much and I need t...\n",
       "2        Hey people of this sub, I was hoping to get so...\n",
       "3        Just a random thought, because i started to li...\n",
       "4        [Depression: How You Label Determines How You ...\n",
       "5        I take regular medication and have done for th...\n",
       "6        My birthday is in February next year. In 3 mon...\n",
       "7        Sorry this is mainly a rant, but I've accepted...\n",
       "8        Didn't know where else to ask for help. I've j...\n",
       "9                                                [removed]\n",
       "10       I try to stay positive but it really bothers m...\n",
       "11       Like, not being able to fall asleep but waking...\n",
       "12       Hi there, as the title says my girlfriend rece...\n",
       "13       Has anyone ever been on it ? What subscription...\n",
       "14       EDIT: Now that I've finished writing the post,...\n",
       "15       I am currently on 45mg mirt for around 5 month...\n",
       "16       I have depression, Aspergers, OCD, Anxiety, An...\n",
       "17                                               [removed]\n",
       "18       Have an appt with my psych in an hour. I weane...\n",
       "19       Hey, i never tried to actually talk to people ...\n",
       "20       im such mess and i need something that will he...\n",
       "21       Do you ever lose a loved one and just wish you...\n",
       "22                                     Title says it all. \n",
       "23       I wish I looked normal. I look so weird, and g...\n",
       "24       I just relised they dont care if you are depre...\n",
       "25       From 7am-5pm to 2x4h/day I'm now at 8/9/10pm-4...\n",
       "26       im such mess and i need something that will he...\n",
       "27       I'm recovering from alcohol addiction and my d...\n",
       "28       I feel like people are trying to get away from...\n",
       "29       I’ve wasted my opportunities.\\n\\nI’ve failed t...\n",
       "                               ...                        \n",
       "14970    I've struggled with depression for a while but...\n",
       "14971    Hi all,\\nI would like to know how are you and ...\n",
       "14972    I've never cut before. The only reason is caus...\n",
       "14973    I'm 16 with no motivation and feel worthless a...\n",
       "14974    I saw the Facebook thing that she’s official w...\n",
       "14975    Well, I think I'm pretty stuck into this shit....\n",
       "14976    I usually stay awake till 4-5 AM. And some nig...\n",
       "14977                                                  Yay\n",
       "14978    Can't fall asleep because I'm overthinking. Pl...\n",
       "14979    I am 23 and I only hang out with my mom and my...\n",
       "14980    I wasn't even that depressed. Literally everyo...\n",
       "14981    Today was rough.  I thought I was doing well t...\n",
       "14982    When I was younger I had some friends but as t...\n",
       "14983    I know I have to deal with this alone but some...\n",
       "14984    I fucking took a nap today. It's WEDNESDAY. I ...\n",
       "14985    guys please pray or hope that this goes right ...\n",
       "14986    Depression is comforting.  It’s my identity.  ...\n",
       "14987    As my depression has gotten worse I have notic...\n",
       "14988                                                     \n",
       "14989    I’m doing exactly what I always told myself I ...\n",
       "14990    So, I've been seeing a shrink for a while now ...\n",
       "14991    Do happy people exist? I think everyone is unh...\n",
       "14992    I’ve been dealing with mental problems for as ...\n",
       "14993    By far the best person I ever had to help me. ...\n",
       "14994    I'm 25 years old. Throughout my life I've had ...\n",
       "14995    The last few weeks, I've been mainly working a...\n",
       "14996    Not to sound extremely selfish and apathetic, ...\n",
       "14997    Its something I've been considering for a whil...\n",
       "14998    Escaping life is the only answer. The human na...\n",
       "14999    Hi everyone, it’s difficult for me to describe...\n",
       "Name: selftext, Length: 15000, dtype: object"
      ]
     },
     "execution_count": 21,
     "metadata": {},
     "output_type": "execute_result"
    }
   ],
   "source": [
    "df['selftext']"
   ]
  },
  {
   "cell_type": "code",
   "execution_count": null,
   "metadata": {},
   "outputs": [],
   "source": []
  }
 ],
 "metadata": {
  "kernelspec": {
   "display_name": "Python 3",
   "language": "python",
   "name": "python3"
  },
  "language_info": {
   "codemirror_mode": {
    "name": "ipython",
    "version": 3
   },
   "file_extension": ".py",
   "mimetype": "text/x-python",
   "name": "python",
   "nbconvert_exporter": "python",
   "pygments_lexer": "ipython3",
   "version": "3.6.4"
  }
 },
 "nbformat": 4,
 "nbformat_minor": 2
}
