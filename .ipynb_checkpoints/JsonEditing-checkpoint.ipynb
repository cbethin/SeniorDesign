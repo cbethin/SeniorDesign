{
 "cells": [
  {
   "cell_type": "code",
   "execution_count": 1,
   "metadata": {},
   "outputs": [],
   "source": [
    "import json\n",
    "import os"
   ]
  },
  {
   "cell_type": "code",
   "execution_count": 2,
   "metadata": {},
   "outputs": [],
   "source": [
    "def getJsonFiles(filepath):\n",
    "    files = list(filter(lambda x: '.json' in x, os.listdir(filepath)))\n",
    "    return [os.path.join(filepath, file) for file in files]"
   ]
  },
  {
   "cell_type": "code",
   "execution_count": 30,
   "metadata": {},
   "outputs": [],
   "source": [
    "directory = 'datasets/extended-100k/data'\n",
    "filepaths = getJsonFiles(directory)"
   ]
  },
  {
   "cell_type": "code",
   "execution_count": 33,
   "metadata": {
    "scrolled": true
   },
   "outputs": [
    {
     "name": "stdout",
     "output_type": "stream",
     "text": [
      "datasets/extended-100k/data/simplified/socialanxiety.json\n",
      "datasets/extended-100k/data/simplified/Anxiety.json\n",
      "datasets/extended-100k/data/simplified/PowerLedger.json\n",
      "datasets/extended-100k/data/simplified/tifu.json\n",
      "datasets/extended-100k/data/simplified/SuicideWatch.json\n",
      "datasets/extended-100k/data/simplified/ForeverAlone.json\n",
      "datasets/extended-100k/data/simplified/TalesFromYourServer.json\n",
      "datasets/extended-100k/data/simplified/depression.json\n",
      "datasets/extended-100k/data/simplified/berkeley.json\n"
     ]
    }
   ],
   "source": [
    "for filepath in filepaths:\n",
    "    with open(filepath) as f:\n",
    "        jsonData = json.load(f)\n",
    "        data_out = jsonData['data']\n",
    "\n",
    "        subreddit = data_out[0]['subreddit']\n",
    "        output_filepath = os.path.join(directory, 'simplified', subreddit+'.json')\n",
    "        print(output_filepath)\n",
    "        \n",
    "        with open(output_filepath, 'w') as outfile:\n",
    "            json.dump(data_out, outfile)"
   ]
  },
  {
   "cell_type": "code",
   "execution_count": null,
   "metadata": {},
   "outputs": [],
   "source": []
  }
 ],
 "metadata": {
  "kernelspec": {
   "display_name": "Python 3",
   "language": "python",
   "name": "python3"
  },
  "language_info": {
   "codemirror_mode": {
    "name": "ipython",
    "version": 3
   },
   "file_extension": ".py",
   "mimetype": "text/x-python",
   "name": "python",
   "nbconvert_exporter": "python",
   "pygments_lexer": "ipython3",
   "version": "3.6.4"
  }
 },
 "nbformat": 4,
 "nbformat_minor": 2
}
