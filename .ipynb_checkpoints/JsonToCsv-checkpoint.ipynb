{
 "cells": [
  {
   "cell_type": "code",
   "execution_count": 17,
   "metadata": {},
   "outputs": [],
   "source": [
    "import pandas as pd\n",
    "import numpy as np\n",
    "import json\n",
    "import os"
   ]
  },
  {
   "cell_type": "code",
   "execution_count": 2,
   "metadata": {},
   "outputs": [
    {
     "name": "stdout",
     "output_type": "stream",
     "text": [
      "Anxiety_text_samples_extended.json\r\n",
      "PowerLedger_text_samples_extended.json\r\n",
      "SuicideWatch_text_samples_extended.json\r\n",
      "TalesFromYourServer_text_samples_extended.json\r\n",
      "berkeley_text_samples_extended.json\r\n",
      "\u001b[34mcharts\u001b[m\u001b[m\r\n",
      "\u001b[34mdepressed-users\u001b[m\u001b[m\r\n",
      "depression_text_samples_extended.json\r\n",
      "foreveralone_text_samples_extended.json\r\n",
      "id-depression.json\r\n",
      "\u001b[34mpretty\u001b[m\u001b[m\r\n",
      "socialanxiety_text_samples_extended.json\r\n",
      "tifu_text_samples_extended.json\r\n"
     ]
    }
   ],
   "source": [
    "!ls datasets/extended-15k"
   ]
  },
  {
   "cell_type": "code",
   "execution_count": 59,
   "metadata": {},
   "outputs": [],
   "source": [
    "def loadJsonFileAsDataframe(filename):\n",
    "    print(filename)\n",
    "    with open(filename) as f:\n",
    "        jsonData = json.load(f)\n",
    "        data = pd.DataFrame.from_records(jsonData['data'])\n",
    "    return data"
   ]
  },
  {
   "cell_type": "code",
   "execution_count": 57,
   "metadata": {
    "scrolled": true
   },
   "outputs": [],
   "source": [
    "def getJsonFiles(filepath):\n",
    "    files = list(filter(lambda x: '.json' in x, os.listdir(filepath)))\n",
    "    return [os.path.join(filepath, file) for file in files]"
   ]
  },
  {
   "cell_type": "code",
   "execution_count": 65,
   "metadata": {},
   "outputs": [
    {
     "name": "stdout",
     "output_type": "stream",
     "text": [
      "['datasets/extended-100k/data/socialanxiety_text_samples_extended.json', 'datasets/extended-100k/data/Anxiety_text_samples_extended.json', 'datasets/extended-100k/data/PowerLedger_text_samples_extended.json', 'datasets/extended-100k/data/tifu_text_samples_extended.json', 'datasets/extended-100k/data/SuicideWatch_text_samples_extended.json', 'datasets/extended-100k/data/foreveralone_text_samples_extended.json', 'datasets/extended-100k/data/TalesFromYourServer_text_samples_extended.json', 'datasets/extended-100k/data/depression_text_samples_extended.json', 'datasets/extended-100k/data/berkeley_text_samples_extended.json']\n",
      "---------\n",
      "datasets/extended-100k/data/socialanxiety_text_samples_extended.json\n",
      "datasets/extended-100k/data/Anxiety_text_samples_extended.json\n",
      "datasets/extended-100k/data/PowerLedger_text_samples_extended.json\n",
      "datasets/extended-100k/data/tifu_text_samples_extended.json\n",
      "datasets/extended-100k/data/SuicideWatch_text_samples_extended.json\n",
      "datasets/extended-100k/data/foreveralone_text_samples_extended.json\n",
      "datasets/extended-100k/data/TalesFromYourServer_text_samples_extended.json\n",
      "datasets/extended-100k/data/depression_text_samples_extended.json\n",
      "datasets/extended-100k/data/berkeley_text_samples_extended.json\n"
     ]
    }
   ],
   "source": [
    "filepath = 'datasets/extended-100k/data/'\n",
    "filenames = getJsonFiles(filepath)\n",
    "print(filenames)\n",
    "print('---------')\n",
    "dataframes = [loadJsonFileAsDataframe(file) for file in filenames]"
   ]
  },
  {
   "cell_type": "code",
   "execution_count": 66,
   "metadata": {},
   "outputs": [
    {
     "name": "stdout",
     "output_type": "stream",
     "text": [
      "datasets/extended-100k/data/csv/socialanxiety.csv\n",
      "datasets/extended-100k/data/csv/Anxiety.csv\n",
      "datasets/extended-100k/data/csv/PowerLedger.csv\n",
      "datasets/extended-100k/data/csv/tifu.csv\n",
      "datasets/extended-100k/data/csv/SuicideWatch.csv\n",
      "datasets/extended-100k/data/csv/ForeverAlone.csv\n",
      "datasets/extended-100k/data/csv/TalesFromYourServer.csv\n",
      "datasets/extended-100k/data/csv/depression.csv\n",
      "datasets/extended-100k/data/csv/berkeley.csv\n"
     ]
    }
   ],
   "source": [
    "for df in dataframes: \n",
    "    csv_filename = df['subreddit'][0] + '.csv'\n",
    "    csv_filepath = os.path.join(filepath, 'csv', csv_filename)\n",
    "    print(csv_filepath)\n",
    "    df.to_csv(csv_filepath)"
   ]
  },
  {
   "cell_type": "code",
   "execution_count": 67,
   "metadata": {},
   "outputs": [
    {
     "name": "stderr",
     "output_type": "stream",
     "text": [
      "/anaconda3/lib/python3.6/site-packages/IPython/core/interactiveshell.py:2728: DtypeWarning: Columns (7,9,10,11,12,19,22,25,33,45) have mixed types. Specify dtype option on import or set low_memory=False.\n",
      "  interactivity=interactivity, compiler=compiler, result=result)\n"
     ]
    }
   ],
   "source": [
    "data = pd.read_csv('datasets/extended-100k/data/csv/depression.csv')"
   ]
  },
  {
   "cell_type": "code",
   "execution_count": 69,
   "metadata": {},
   "outputs": [
    {
     "data": {
      "text/plain": [
       "(100000, 61)"
      ]
     },
     "execution_count": 69,
     "metadata": {},
     "output_type": "execute_result"
    }
   ],
   "source": [
    "data.shape"
   ]
  },
  {
   "cell_type": "code",
   "execution_count": null,
   "metadata": {},
   "outputs": [],
   "source": []
  }
 ],
 "metadata": {
  "kernelspec": {
   "display_name": "Python 3",
   "language": "python",
   "name": "python3"
  },
  "language_info": {
   "codemirror_mode": {
    "name": "ipython",
    "version": 3
   },
   "file_extension": ".py",
   "mimetype": "text/x-python",
   "name": "python",
   "nbconvert_exporter": "python",
   "pygments_lexer": "ipython3",
   "version": "3.6.4"
  }
 },
 "nbformat": 4,
 "nbformat_minor": 2
}
